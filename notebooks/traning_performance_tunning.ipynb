{
 "cells": [
  {
   "cell_type": "code",
   "execution_count": 11,
   "source": [
    "%matplotlib inline\n",
    "import numpy as np\n",
    "import pandas as pd\n",
    "import matplotlib.pyplot as plt\n",
    "from src.data.dataset import ImageDataset\n",
    "from sklearn.multioutput import MultiOutputClassifier"
   ],
   "outputs": [],
   "metadata": {}
  },
  {
   "cell_type": "code",
   "execution_count": 3,
   "source": [
    "import logging\n",
    "logging.basicConfig(level=logging.INFO,\n",
    "format='%(asctime)s.%(msecs)03d :%(message)s',\n",
    "datefmt='%Y-%m-%d %H:%M:%S')"
   ],
   "outputs": [],
   "metadata": {}
  },
  {
   "cell_type": "code",
   "execution_count": 4,
   "source": [
    "base_path = os.path.join(os.getcwd(), \"..\")\n",
    "\n",
    "transformations = [\n",
    "    ('resize', {'size': (320, 320)}),\n",
    "    ('flatten', {})\n",
    "]\n",
    "image_path = os.path.join(base_path, \"data\", \"raw\")\n",
    "train_csv_path = os.path.join(base_path, \"data\", \"raw\", \"CheXpert-v1.0-small\", \"train.csv\")\n",
    "return_labels = ['Atelectasis', 'Cardiomegaly', 'Consolidation', 'Edema',\n",
    "'Pleural Effusion']\n",
    "classes = np.array([[0, 1] for y in return_labels]).astype(np.float32)\n"
   ],
   "outputs": [],
   "metadata": {}
  },
  {
   "cell_type": "markdown",
   "source": [
    "## Batch size tunning  for partial_fit"
   ],
   "metadata": {}
  },
  {
   "cell_type": "code",
   "execution_count": 5,
   "source": [
    "limit = 100000\n",
    "batchsize=1000\n",
    "train_dataset = ImageDataset(label_csv_path=train_csv_path, image_path_base=image_path, limit=limit,\n",
    "transformations=transformations, map_option='Random')"
   ],
   "outputs": [],
   "metadata": {}
  },
  {
   "cell_type": "code",
   "execution_count": 6,
   "source": [
    "from src.models.sklearn_models import models\n",
    "base_model = models['MultinomialNB']\n",
    "model = MultiOutputClassifier(base_model, n_jobs=1)\n"
   ],
   "outputs": [],
   "metadata": {}
  },
  {
   "cell_type": "code",
   "execution_count": 8,
   "source": [
    "import time\n",
    "\n",
    "def test_batch_load(model, batch_size, batch_num=1):\n",
    "    logging.info(f'Training model on batch size {batch_size} ')\n",
    "    start = time.time()\n",
    "    for i, (x_features, x_image, y) in enumerate(train_dataset.batchloader(batch_size, return_labels)):\n",
    "        if i+1 > batch_num:\n",
    "            break\n",
    "        X = pd.concat([pd.DataFrame(x_features), pd.DataFrame(x_image)], axis=1)\n",
    "        logging.info(f'Training model on batch {(i + 1)} out of {batch_num}')\n",
    "        model.partial_fit(X, y, classes=classes)\n",
    "    end = time.time()\n",
    "    return (end -  start) / batch_num / batch_size\n"
   ],
   "outputs": [],
   "metadata": {}
  },
  {
   "cell_type": "code",
   "execution_count": 9,
   "source": [
    "size_list = [10, 100, 1000, 10000]\n",
    "time_per_record = []\n",
    "\n",
    "for size in size_list:\n",
    "    time_per_record.append(test_batch_load(model, size))"
   ],
   "outputs": [
    {
     "output_type": "stream",
     "name": "stderr",
     "text": [
      "2021-07-25 12:58:19.940 :Training model on batch size 10 \n",
      "2021-07-25 12:58:24.131 :Training model on batch 1 out of 1\n",
      "2021-07-25 12:58:28.808 :Training model on batch size 100 \n",
      "2021-07-25 12:58:35.583 :Training model on batch 1 out of 1\n",
      "2021-07-25 12:58:42.799 :Training model on batch size 1000 \n",
      "2021-07-25 12:59:26.244 :Training model on batch 1 out of 1\n",
      "2021-07-25 13:00:08.411 :Training model on batch size 10000 \n",
      "2021-07-25 13:50:29.955 :Training model on batch 1 out of 1\n"
     ]
    }
   ],
   "metadata": {}
  },
  {
   "cell_type": "code",
   "execution_count": 12,
   "source": [
    "\n",
    "plt.plot(size_list, time_per_record)"
   ],
   "outputs": [
    {
     "output_type": "execute_result",
     "data": {
      "text/plain": [
       "[<matplotlib.lines.Line2D at 0x7fa730ec8990>]"
      ]
     },
     "metadata": {},
     "execution_count": 12
    },
    {
     "output_type": "display_data",
     "data": {
      "text/plain": [
       "<Figure size 432x288 with 1 Axes>"
      ],
      "image/png": "[encoded data removed]"
     },
     "metadata": {
      "needs_background": "light"
     }
    }
   ],
   "metadata": {}
  },
  {
   "cell_type": "code",
   "execution_count": 14,
   "source": [
    "size_list = np.linspace(10, 1000, 50).astype(np.int32)\n",
    "time_per_record = []\n",
    "\n",
    "for size in size_list:\n",
    "    time_per_record.append(test_batch_load(model, size))\n",
    "plt.plot(size_list, time_per_record)"
   ],
   "outputs": [
    {
     "output_type": "stream",
     "name": "stderr",
     "text": [
      "2021-07-25 15:08:39.681 :Training model on batch size 10 \n",
      "2021-07-25 15:08:44.026 :Training model on batch 1 out of 1\n",
      "2021-07-25 15:08:48.813 :Training model on batch size 30 \n",
      "2021-07-25 15:08:53.521 :Training model on batch 1 out of 1\n",
      "2021-07-25 15:08:58.845 :Training model on batch size 50 \n",
      "2021-07-25 15:09:04.119 :Training model on batch 1 out of 1\n",
      "2021-07-25 15:09:10.101 :Training model on batch size 70 \n",
      "2021-07-25 15:09:16.363 :Training model on batch 1 out of 1\n",
      "2021-07-25 15:09:23.138 :Training model on batch size 90 \n",
      "2021-07-25 15:09:30.675 :Training model on batch 1 out of 1\n",
      "2021-07-25 15:09:38.516 :Training model on batch size 111 \n",
      "2021-07-25 15:09:45.912 :Training model on batch 1 out of 1\n",
      "2021-07-25 15:09:53.818 :Training model on batch size 131 \n",
      "2021-07-25 15:10:02.207 :Training model on batch 1 out of 1\n",
      "2021-07-25 15:10:10.663 :Training model on batch size 151 \n",
      "2021-07-25 15:10:19.075 :Training model on batch 1 out of 1\n",
      "2021-07-25 15:10:28.241 :Training model on batch size 171 \n",
      "2021-07-25 15:10:38.519 :Training model on batch 1 out of 1\n",
      "2021-07-25 15:10:49.139 :Training model on batch size 191 \n",
      "2021-07-25 15:10:59.822 :Training model on batch 1 out of 1\n",
      "2021-07-25 15:11:09.955 :Training model on batch size 212 \n",
      "2021-07-25 15:11:20.927 :Training model on batch 1 out of 1\n",
      "2021-07-25 15:11:31.413 :Training model on batch size 232 \n",
      "2021-07-25 15:11:42.811 :Training model on batch 1 out of 1\n",
      "2021-07-25 15:11:55.548 :Training model on batch size 252 \n",
      "2021-07-25 15:12:06.780 :Training model on batch 1 out of 1\n",
      "2021-07-25 15:12:18.768 :Training model on batch size 272 \n",
      "2021-07-25 15:12:30.072 :Training model on batch 1 out of 1\n",
      "2021-07-25 15:12:42.540 :Training model on batch size 292 \n",
      "2021-07-25 15:12:54.139 :Training model on batch 1 out of 1\n",
      "2021-07-25 15:13:06.757 :Training model on batch size 313 \n",
      "2021-07-25 15:13:19.534 :Training model on batch 1 out of 1\n",
      "2021-07-25 15:13:33.195 :Training model on batch size 333 \n",
      "2021-07-25 15:13:46.631 :Training model on batch 1 out of 1\n",
      "2021-07-25 15:14:00.644 :Training model on batch size 353 \n",
      "2021-07-25 15:14:15.522 :Training model on batch 1 out of 1\n",
      "2021-07-25 15:14:30.435 :Training model on batch size 373 \n",
      "2021-07-25 15:14:44.582 :Training model on batch 1 out of 1\n",
      "2021-07-25 15:15:00.467 :Training model on batch size 393 \n",
      "2021-07-25 15:15:15.683 :Training model on batch 1 out of 1\n",
      "2021-07-25 15:15:32.410 :Training model on batch size 414 \n",
      "2021-07-25 15:15:52.919 :Training model on batch 1 out of 1\n",
      "2021-07-25 15:16:12.162 :Training model on batch size 434 \n",
      "2021-07-25 15:16:29.574 :Training model on batch 1 out of 1\n",
      "2021-07-25 15:16:52.399 :Training model on batch size 454 \n",
      "2021-07-25 15:17:09.339 :Training model on batch 1 out of 1\n",
      "2021-07-25 15:17:27.320 :Training model on batch size 474 \n",
      "2021-07-25 15:17:44.233 :Training model on batch 1 out of 1\n",
      "2021-07-25 15:18:02.454 :Training model on batch size 494 \n",
      "2021-07-25 15:18:20.748 :Training model on batch 1 out of 1\n",
      "2021-07-25 15:18:42.068 :Training model on batch size 515 \n",
      "2021-07-25 15:19:01.394 :Training model on batch 1 out of 1\n",
      "2021-07-25 15:19:21.826 :Training model on batch size 535 \n",
      "2021-07-25 15:19:40.956 :Training model on batch 1 out of 1\n",
      "2021-07-25 15:20:01.654 :Training model on batch size 555 \n",
      "2021-07-25 15:20:22.389 :Training model on batch 1 out of 1\n",
      "2021-07-25 15:20:43.333 :Training model on batch size 575 \n",
      "2021-07-25 15:21:10.906 :Training model on batch 1 out of 1\n",
      "2021-07-25 15:21:41.869 :Training model on batch size 595 \n",
      "2021-07-25 15:22:08.612 :Training model on batch 1 out of 1\n",
      "2021-07-25 15:22:42.866 :Training model on batch size 616 \n",
      "2021-07-25 15:23:11.972 :Training model on batch 1 out of 1\n",
      "2021-07-25 15:23:39.303 :Training model on batch size 636 \n",
      "2021-07-25 15:24:01.754 :Training model on batch 1 out of 1\n",
      "2021-07-25 15:24:26.791 :Training model on batch size 656 \n",
      "2021-07-25 15:25:04.273 :Training model on batch 1 out of 1\n",
      "2021-07-25 15:25:41.861 :Training model on batch size 676 \n",
      "2021-07-25 15:26:18.870 :Training model on batch 1 out of 1\n",
      "2021-07-25 15:26:58.570 :Training model on batch size 696 \n",
      "2021-07-25 15:27:36.852 :Training model on batch 1 out of 1\n",
      "2021-07-25 15:28:14.443 :Training model on batch size 717 \n",
      "2021-07-25 15:28:56.518 :Training model on batch 1 out of 1\n",
      "2021-07-25 15:29:34.442 :Training model on batch size 737 \n",
      "2021-07-25 15:30:12.876 :Training model on batch 1 out of 1\n",
      "2021-07-25 15:30:53.577 :Training model on batch size 757 \n",
      "2021-07-25 15:31:26.583 :Training model on batch 1 out of 1\n",
      "2021-07-25 15:32:00.065 :Training model on batch size 777 \n",
      "2021-07-25 15:32:34.478 :Training model on batch 1 out of 1\n",
      "2021-07-25 15:33:09.541 :Training model on batch size 797 \n",
      "2021-07-25 15:33:45.194 :Training model on batch 1 out of 1\n",
      "2021-07-25 15:34:25.199 :Training model on batch size 818 \n",
      "2021-07-25 15:34:58.170 :Training model on batch 1 out of 1\n",
      "2021-07-25 15:35:38.109 :Training model on batch size 838 \n",
      "2021-07-25 15:36:11.658 :Training model on batch 1 out of 1\n",
      "2021-07-25 15:36:45.304 :Training model on batch size 858 \n",
      "2021-07-25 15:37:26.865 :Training model on batch 1 out of 1\n",
      "2021-07-25 15:38:03.953 :Training model on batch size 878 \n",
      "2021-07-25 15:38:44.294 :Training model on batch 1 out of 1\n",
      "2021-07-25 15:39:26.825 :Training model on batch size 898 \n",
      "2021-07-25 15:40:07.169 :Training model on batch 1 out of 1\n",
      "2021-07-25 15:40:51.568 :Training model on batch size 919 \n",
      "2021-07-25 15:41:30.746 :Training model on batch 1 out of 1\n",
      "2021-07-25 15:42:06.176 :Training model on batch size 939 \n",
      "2021-07-25 15:42:39.468 :Training model on batch 1 out of 1\n",
      "2021-07-25 15:43:16.516 :Training model on batch size 959 \n",
      "2021-07-25 15:43:51.716 :Training model on batch 1 out of 1\n",
      "2021-07-25 15:44:31.020 :Training model on batch size 979 \n",
      "2021-07-25 15:45:12.774 :Training model on batch 1 out of 1\n",
      "2021-07-25 15:45:56.447 :Training model on batch size 1000 \n",
      "2021-07-25 15:46:33.680 :Training model on batch 1 out of 1\n"
     ]
    },
    {
     "output_type": "execute_result",
     "data": {
      "text/plain": [
       "[<matplotlib.lines.Line2D at 0x7fa748b0d990>]"
      ]
     },
     "metadata": {},
     "execution_count": 14
    },
    {
     "output_type": "display_data",
     "data": {
      "text/plain": [
       "<Figure size 432x288 with 1 Axes>"
      ],
      "image/png": "[encoded data removed]"
     },
     "metadata": {
      "needs_background": "light"
     }
    }
   ],
   "metadata": {}
  },
  {
   "cell_type": "code",
   "execution_count": 16,
   "source": [
    "size_list = np.linspace(400, 2000, 20).astype(np.int32)\n",
    "time_per_record = []\n",
    "\n",
    "for size in size_list:\n",
    "    time_per_record.append(test_batch_load(model, size))\n",
    "plt.plot(size_list, time_per_record)"
   ],
   "outputs": [
    {
     "output_type": "stream",
     "name": "stderr",
     "text": [
      "2021-07-25 17:05:19.210 :Training model on batch size 400 \n",
      "2021-07-25 17:05:34.119 :Training model on batch 1 out of 1\n",
      "2021-07-25 17:05:49.492 :Training model on batch size 484 \n",
      "2021-07-25 17:06:06.038 :Training model on batch 1 out of 1\n",
      "2021-07-25 17:06:26.111 :Training model on batch size 568 \n",
      "2021-07-25 17:06:46.629 :Training model on batch 1 out of 1\n",
      "2021-07-25 17:07:11.683 :Training model on batch size 652 \n",
      "2021-07-25 17:07:35.333 :Training model on batch 1 out of 1\n",
      "2021-07-25 17:07:59.913 :Training model on batch size 736 \n",
      "2021-07-25 17:08:26.417 :Training model on batch 1 out of 1\n",
      "2021-07-25 17:08:54.522 :Training model on batch size 821 \n",
      "2021-07-25 17:09:24.305 :Training model on batch 1 out of 1\n",
      "2021-07-25 17:09:56.245 :Training model on batch size 905 \n",
      "2021-07-25 17:10:28.606 :Training model on batch 1 out of 1\n",
      "2021-07-25 17:11:07.519 :Training model on batch size 989 \n",
      "2021-07-25 17:11:43.223 :Training model on batch 1 out of 1\n",
      "2021-07-25 17:12:20.949 :Training model on batch size 1073 \n",
      "2021-07-25 17:13:01.025 :Training model on batch 1 out of 1\n",
      "2021-07-25 17:13:44.264 :Training model on batch size 1157 \n",
      "2021-07-25 17:14:29.126 :Training model on batch 1 out of 1\n",
      "2021-07-25 17:15:16.563 :Training model on batch size 1242 \n",
      "2021-07-25 17:16:04.803 :Training model on batch 1 out of 1\n",
      "2021-07-25 17:16:55.278 :Training model on batch size 1326 \n",
      "2021-07-25 17:17:47.029 :Training model on batch 1 out of 1\n",
      "2021-07-25 17:18:43.133 :Training model on batch size 1410 \n",
      "2021-07-25 17:19:38.268 :Training model on batch 1 out of 1\n",
      "2021-07-25 17:20:37.615 :Training model on batch size 1494 \n",
      "2021-07-25 17:21:40.582 :Training model on batch 1 out of 1\n",
      "2021-07-25 17:22:46.087 :Training model on batch size 1578 \n",
      "2021-07-25 17:23:53.382 :Training model on batch 1 out of 1\n",
      "2021-07-25 17:25:18.257 :Training model on batch size 1663 \n",
      "2021-07-25 17:26:35.155 :Training model on batch 1 out of 1\n",
      "2021-07-25 17:27:57.973 :Training model on batch size 1747 \n",
      "2021-07-25 17:29:20.772 :Training model on batch 1 out of 1\n",
      "2021-07-25 17:30:49.648 :Training model on batch size 1831 \n",
      "2021-07-25 17:32:13.792 :Training model on batch 1 out of 1\n",
      "2021-07-25 17:33:38.532 :Training model on batch size 1915 \n",
      "2021-07-25 17:35:06.148 :Training model on batch 1 out of 1\n",
      "2021-07-25 17:36:39.237 :Training model on batch size 2000 \n",
      "2021-07-25 17:38:23.460 :Training model on batch 1 out of 1\n"
     ]
    },
    {
     "output_type": "execute_result",
     "data": {
      "text/plain": [
       "[<matplotlib.lines.Line2D at 0x7fa730ed6fd0>]"
      ]
     },
     "metadata": {},
     "execution_count": 16
    },
    {
     "output_type": "display_data",
     "data": {
      "text/plain": [
       "<Figure size 432x288 with 1 Axes>"
      ],
      "image/png": "[encoded data removed]"
     },
     "metadata": {
      "needs_background": "light"
     }
    }
   ],
   "metadata": {}
  },
  {
   "cell_type": "code",
   "execution_count": null,
   "source": [],
   "outputs": [],
   "metadata": {}
  }
 ],
 "metadata": {
  "orig_nbformat": 4,
  "language_info": {
   "name": "python",
   "version": "3.7.10",
   "mimetype": "text/x-python",
   "codemirror_mode": {
    "name": "ipython",
    "version": 3
   },
   "pygments_lexer": "ipython3",
   "nbconvert_exporter": "python",
   "file_extension": ".py"
  },
  "kernelspec": {
   "name": "python3",
   "display_name": "Python 3.7.10 64-bit ('.venv': venv)"
  },
  "interpreter": {
   "hash": "9a2a9b6acdf5e9c66c85baa60ea6313b4331138c42b5e2ee1d04a7065838f3b5"
  }
 },
 "nbformat": 4,
 "nbformat_minor": 2
}