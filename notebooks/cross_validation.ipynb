{
 "cells": [
  {
   "cell_type": "code",
   "execution_count": 1,
   "source": [
    "%matplotlib inline\n",
    "import numpy as np\n",
    "import pandas as pd\n",
    "import matplotlib.pyplot as plt\n",
    "from src.data.dataset import ImageDataset\n",
    "from sklearn.multioutput import MultiOutputClassifier"
   ],
   "outputs": [],
   "metadata": {}
  },
  {
   "cell_type": "code",
   "execution_count": 2,
   "source": [
    "import logging\n",
    "logging.basicConfig(level=logging.INFO,\n",
    "format='%(asctime)s.%(msecs)03d : %(message)s',\n",
    "datefmt='%Y-%m-%d %H:%M:%S')"
   ],
   "outputs": [],
   "metadata": {}
  },
  {
   "cell_type": "code",
   "execution_count": 3,
   "source": [
    "base_path = os.path.join(os.getcwd(), \"..\")\n",
    "\n",
    "transformations = [\n",
    "    ('resize', {'size': (320, 320)}),\n",
    "    ('flatten', {})\n",
    "]\n",
    "image_path = os.path.join(base_path, \"data\", \"raw\")\n",
    "train_csv_path = os.path.join(base_path, \"data\", \"raw\", \"CheXpert-v1.0-small\", \"train.csv\")\n",
    "# return_labels = ['Atelectasis', 'Cardiomegaly', 'Consolidation', 'Edema',\n",
    "# 'Pleural Effusion']\n",
    "return_labels = ['Atelectasis']\n",
    "map_option= {\n",
    "    'Atelectasis': \"U-one\"\n",
    "}\n",
    "classes = np.array([[0, 1] for y in return_labels]).astype(np.float32)\n"
   ],
   "outputs": [],
   "metadata": {}
  },
  {
   "cell_type": "markdown",
   "source": [
    "## Cross validation\n",
    "\n",
    "⚠️ StratifiedKFold cannot run on multioutput classifier"
   ],
   "metadata": {}
  },
  {
   "cell_type": "code",
   "execution_count": 4,
   "source": [
    "limit = 10000\n",
    "train_dataset = ImageDataset(label_csv_path=train_csv_path, image_path_base=image_path, limit=limit,\n",
    "transformations=transformations, map_option=map_option, random_state=42)"
   ],
   "outputs": [],
   "metadata": {}
  },
  {
   "cell_type": "code",
   "execution_count": 5,
   "source": [
    "from src.models.sklearn_models import models\n",
    "base_model = models['MultinomialNB']\n",
    "if len(return_labels) > 1:\n",
    "    model = MultiOutputClassifier(base_model, n_jobs=1)\n",
    "else:\n",
    "    model = base_model\n"
   ],
   "outputs": [],
   "metadata": {}
  },
  {
   "cell_type": "code",
   "execution_count": 6,
   "source": [
    "from sklearn.model_selection import StratifiedKFold\n",
    "from sklearn.base import clone\n",
    "\n",
    "from sklearn.metrics import roc_auc_score, roc_curve, f1_score, accuracy_score\n",
    "    \n",
    "    \n",
    "batch_size = 500\n",
    "skfolds = StratifiedKFold(n_splits=3, shuffle=True, random_state=42)\n",
    "X_train, y_train = train_dataset.load(return_labels=return_labels, without_image=True, return_X_y=True)\n",
    "\n",
    "accuracy_all = []\n",
    "auc_all = []\n",
    "\n",
    "for i, (train_index, test_index) in enumerate(skfolds.split(X_train, y_train)):\n",
    "    logging.info(f'Cross validate model on iteration: {(i + 1)}')\n",
    "    clone_clf = clone(model)\n",
    "    X_train_folds = X_train.iloc[train_index]\n",
    "    y_train_folds = y_train.iloc[train_index]\n",
    "    X_test_folds = X_train.iloc[test_index]\n",
    "    y_test_folds = y_train.iloc[test_index]\n",
    "\n",
    "    train_ds = ImageDataset(label_df=pd.concat([X_train_folds, y_train_folds], axis=1), clean=False, transformations=train_dataset.transformations, random_state=42)\n",
    "    test_ds = ImageDataset(label_df=pd.concat([X_test_folds, y_test_folds], axis=1), clean=False, transformations=train_dataset.transformations, random_state=42)\n",
    "    \n",
    "    j = 0\n",
    "    for x_features, x_image, y in train_ds.batchloader(batch_size, return_labels):\n",
    "        X = pd.concat([x_features, x_image], axis=1)\n",
    "        logging.info(f'Training model on batch {(j + 1)}')\n",
    "        clone_clf.partial_fit(X, y, classes=classes)\n",
    "        j += 1\n",
    "\n",
    "\n",
    "    y_true = []\n",
    "    y_pred = []\n",
    "    y_pred_proba = []\n",
    "    j = 0\n",
    "    for x_features, x_image, y in test_ds.batchloader(batch_size, return_labels):\n",
    "        X = pd.concat([pd.DataFrame(x_features), pd.DataFrame(x_image)], axis=1)\n",
    "        logging.info(f'Validate model on batch {(j + 1)}')\n",
    "        y_true.append(y.to_numpy())\n",
    "        y_pred_proba.append(clone_clf.predict_proba(X))\n",
    "        y_pred.append(clone_clf.predict(X))\n",
    "        j += 1\n",
    "    y_true_all = np.concatenate(y_true, axis=0)\n",
    "    y_pred_all = np.concatenate(y_pred, axis=0)\n",
    "    y_pred_proba_all = np.concatenate(y_pred_proba, axis=0)\n",
    "    accuracy = accuracy_score(y_true=y_true_all, y_pred=y_pred_all)\n",
    "    auc = roc_auc_score(y_true=y_true_all, y_score=y_pred_proba_all[:, 1])\n",
    "    logging.info(f'accuracy: {accuracy}, auc: {auc}')\n",
    "\n",
    "    accuracy_all.append(accuracy)\n",
    "    auc_all.append(auc)\n",
    "    \n",
    "logging.info(f'accuracy_all: {accuracy_all}')\n",
    "logging.info(f'auc_all: {auc_all}')"
   ],
   "outputs": [
    {
     "output_type": "stream",
     "name": "stderr",
     "text": [
      "2021-07-25 20:06:12.790 : Cross validate model on iteration: 1\n",
      "2021-07-25 20:06:39.063 : Training model on batch 1\n",
      "2021-07-25 20:07:02.895 : Training model on batch 2\n",
      "2021-07-25 20:07:25.462 : Training model on batch 3\n",
      "2021-07-25 20:07:47.543 : Training model on batch 4\n",
      "2021-07-25 20:08:12.665 : Training model on batch 5\n"
     ]
    }
   ],
   "metadata": {}
  },
  {
   "cell_type": "code",
   "execution_count": null,
   "source": [],
   "outputs": [],
   "metadata": {}
  }
 ],
 "metadata": {
  "orig_nbformat": 4,
  "language_info": {
   "name": "python",
   "version": "3.7.10",
   "mimetype": "text/x-python",
   "codemirror_mode": {
    "name": "ipython",
    "version": 3
   },
   "pygments_lexer": "ipython3",
   "nbconvert_exporter": "python",
   "file_extension": ".py"
  },
  "kernelspec": {
   "name": "python3",
   "display_name": "Python 3.7.10 64-bit ('.venv': venv)"
  },
  "interpreter": {
   "hash": "9a2a9b6acdf5e9c66c85baa60ea6313b4331138c42b5e2ee1d04a7065838f3b5"
  }
 },
 "nbformat": 4,
 "nbformat_minor": 2
}